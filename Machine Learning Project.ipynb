{
 "cells": [
  {
   "cell_type": "markdown",
   "metadata": {},
   "source": [
    "# Machine Learning Project"
   ]
  },
  {
   "cell_type": "markdown",
   "metadata": {},
   "source": [
    "*Date: 12/02/2018*\n",
    "\n",
    "\n",
    "\n",
    "This project uses machine learning algorithm to explore three data sets. We will look at Beijing's Air Quality (temperature to PM2.5), Real Estate Valuation (Location to Price), and Student Performance (Multiple features and relations). Main features include cross-validation, linear regression and logistic regression. \n",
    "\n",
    "**Collaborators of this project:** Anish Vankayalapati, David Lyu, Linda (Ningyi) Zheng "
   ]
  },
  {
   "cell_type": "code",
   "execution_count": 17,
   "metadata": {},
   "outputs": [],
   "source": [
    "import matplotlib.pyplot as plt\n",
    "import sklearn\n",
    "import random\n",
    "import numpy as np\n",
    "import pandas as pd\n",
    "import seaborn as sns\n",
    "import ipywidgets as widgets\n",
    "from ipywidgets import interact, interactive, fixed, interact_manual\n",
    "from sklearn.preprocessing import PolynomialFeatures\n",
    "from sklearn.linear_model import LinearRegression\n",
    "from sklearn.model_selection import train_test_split\n",
    "#from plotting import overfittingDemo, plot_multiple_linear_regression, ridgeRegularizationDemo, lassoRegularizationDemo\n",
    "from scipy.optimize import curve_fit\n",
    "from sklearn.metrics import mean_squared_error\n",
    "import warnings\n",
    "warnings.filterwarnings('ignore')\n",
    "%matplotlib inline\n",
    "sns.set()\n",
    "sns.set_context('talk')\n",
    "np.set_printoptions(threshold=20, precision=2, suppress=True)\n",
    "pd.options.display.max_rows = 7\n",
    "pd.options.display.max_columns = 8\n",
    "pd.set_option('precision', 2)"
   ]
  },
  {
   "cell_type": "code",
   "execution_count": 67,
   "metadata": {
    "scrolled": true
   },
   "outputs": [
    {
     "name": "stdout",
     "output_type": "stream",
     "text": [
      "    instant      dteday  season  yr  ...   windspeed  casual  registered   cnt\n",
      "0         1  2011-01-01       1   0  ...        0.16     331         654   985\n",
      "1         2  2011-01-02       1   0  ...        0.25     131         670   801\n",
      "2         3  2011-01-03       1   0  ...        0.25     120        1229  1349\n",
      "..      ...         ...     ...  ..  ...         ...     ...         ...   ...\n",
      "5         6  2011-01-06       1   0  ...        0.09      88        1518  1606\n",
      "6         7  2011-01-07       1   0  ...        0.17     148        1362  1510\n",
      "7         8  2011-01-08       1   0  ...        0.27      68         891   959\n",
      "\n",
      "[8 rows x 16 columns]\n",
      "Coefficients= [[ 484.65 -104.21   40.54   18.89 -133.44   40.54 1016.1  -385.72 -339.16]]\n",
      "score= 0.4907973464436106\n",
      "intercept= [4508.8]\n",
      "CV_Scores: [-18.15 -42.57  -3.38 ...  -2.08   0.68   0.53]\n",
      "CV_Score mean:-5.792476103140095\n",
      "CV_Score std deviation: 9.324461797384018\n"
     ]
    }
   ],
   "source": [
    "import pandas as pd\n",
    "from sklearn import linear_model\n",
    "from sklearn import preprocessing\n",
    "from sklearn.model_selection import train_test_split\n",
    "from sklearn import model_selection as ms\n",
    "df = pd.read_csv(\"/Users/vanis/Downloads/Info98/ML-proj/Bike-Sharing-Dataset/day.csv\")\n",
    "print(df.head(8))\n",
    "bike_features = df[['season','holiday','weekday','workingday','weathersit','weekday','temp','hum','windspeed']]\n",
    "# bike_features = df[['workingday','weekday']]\n",
    "bike_yaxis = df[['cnt']]\n",
    "linearmodel = linear_model.LinearRegression()\n",
    "x_train, x_test, y_train, y_test = train_test_split(bike_features,bike_yaxis,test_size=0.33, random_state=0)\n",
    "scaler = preprocessing.StandardScaler().fit(x_train)\n",
    "x_train_scaled = scaler.transform(x_train)\n",
    "x_test_scaled = scaler.transform(x_test)\n",
    "linearmodel.fit(x_train_scaled,y_train)\n",
    "print(\"Coefficients=\",linearmodel.coef_)\n",
    "print(\"score=\",linearmodel.score(x_test_scaled,y_test))\n",
    "print(\"intercept=\",linearmodel.intercept_)\n",
    "#Cross-validation\n",
    "scores = ms.cross_val_score(estimator=linearmodel,X=bike_features,y=bike_yaxis,cv=100)\n",
    "print('CV_Scores: {}'.format(scores))\n",
    "print('CV_Score mean:{}'.format(scores.mean()))\n",
    "print('CV_Score std deviation: {}'.format(scores.std()))"
   ]
  },
  {
   "cell_type": "code",
   "execution_count": 29,
   "metadata": {
    "collapsed": true
   },
   "outputs": [
    {
     "name": "stdout",
     "output_type": "stream",
     "text": [
      "3.6.5\n"
     ]
    }
   ],
   "source": [
    "from platform import python_version\n",
    "print(python_version())"
   ]
  },
  {
   "cell_type": "code",
   "execution_count": 7,
   "metadata": {},
   "outputs": [
    {
     "name": "stdout",
     "output_type": "stream",
     "text": [
      "   No  X1 transaction date  X2 house age  \\\n",
      "0   1             2012.917          32.0   \n",
      "1   2             2012.917          19.5   \n",
      "2   3             2013.583          13.3   \n",
      "3   4             2013.500          13.3   \n",
      "4   5             2012.833           5.0   \n",
      "5   6             2012.667           7.1   \n",
      "6   7             2012.667          34.5   \n",
      "7   8             2013.417          20.3   \n",
      "\n",
      "   X3 distance to the nearest MRT station  X4 number of convenience stores  \\\n",
      "0                                84.87882                               10   \n",
      "1                               306.59470                                9   \n",
      "2                               561.98450                                5   \n",
      "3                               561.98450                                5   \n",
      "4                               390.56840                                5   \n",
      "5                              2175.03000                                3   \n",
      "6                               623.47310                                7   \n",
      "7                               287.60250                                6   \n",
      "\n",
      "   X5 latitude  X6 longitude  Y house price of unit area  \n",
      "0     24.98298     121.54024                        37.9  \n",
      "1     24.98034     121.53951                        42.2  \n",
      "2     24.98746     121.54391                        47.3  \n",
      "3     24.98746     121.54391                        54.8  \n",
      "4     24.97937     121.54245                        43.1  \n",
      "5     24.96305     121.51254                        32.1  \n",
      "6     24.97933     121.53642                        40.3  \n",
      "7     24.98042     121.54228                        46.7  \n",
      "Coefficients= [[ 1.39856174 -2.96994562 -5.75999173  2.98631428  3.17784186 -0.11482644]]\n",
      "score= 0.583248601323757\n",
      "intercept= [38.29819495]\n",
      "CV_Scores: [ -0.09334691   0.52670169   0.62856493   0.10469546   0.85955063\n",
      "   0.50750483   0.52081353   0.75024327   0.90508455   0.62611188\n",
      "   0.80291338   0.76695684   0.69110926   0.32227552   0.79631737\n",
      "   0.95636882   0.71554319   0.91822521   0.53147565   0.79998934\n",
      "   0.61454839   0.65222256   0.29906746   0.59065552  -0.35724965\n",
      "   0.78593601   0.50151711   0.44752621  -3.89057421  -2.8142462\n",
      "   0.6949401    0.30105447   0.7509129  -11.95980679   0.15563325\n",
      "   0.42815756   0.41927532   0.76957462   0.58677664   0.89680404\n",
      "   0.76776651   0.81677947 -15.65565287   0.80534301   0.64964652\n",
      "  -0.29123716  -0.2771901    0.21924231   0.74120062   0.78346215\n",
      "   0.31259183  -0.08147096  -0.14459252   0.67215834   0.33980177\n",
      "   0.76332166   0.35954518   0.15645195   0.3107023    0.74126302\n",
      "   0.66689775   0.76008033   0.60803904   0.16869468  -0.13121157\n",
      "   0.88493314  -0.33593402   0.10708826   0.79161887   0.28895133\n",
      "  -0.53839037   0.74098791   0.61592939   0.83360552   0.18627888\n",
      "   0.07868853   0.69737852   0.25944303   0.63997704   0.65360201\n",
      "  -1.97164566   0.12737208  -0.59160902   0.93299963   0.70057998\n",
      "   0.49150374   0.21390297   0.44278611   0.5865658   -0.24213041\n",
      "   0.8308156    0.17588791   0.56202407   0.19502757  -0.15233111\n",
      "  -0.73842652  -0.45703937  -0.88120515   0.64375716   0.2562938 ]\n",
      "CV_Score mean:0.0360074420804082\n",
      "CV_Score std deviation: 2.1164194483002134\n"
     ]
    }
   ],
   "source": [
    "#we want to analyze the data in real-state-valuation-data-set.csv to see if there is relation between house features like transaction fee, distance to the nearest MRT station,etc and housing price\n",
    "import pandas as pd\n",
    "from sklearn import linear_model\n",
    "from sklearn import preprocessing\n",
    "from sklearn.model_selection import train_test_split\n",
    "from sklearn import model_selection as ms\n",
    "df = pd.read_csv(\"/Users/lindaaazheng/Desktop/ML-proj-master/Real-estate-valuation-data-set.csv\")\n",
    "print(df.head(8))\n",
    "Realstate_features = df[['X1 transaction date','X2 house age','X3 distance to the nearest MRT station','X4 number of convenience stores','X5 latitude','X6 longitude']]\n",
    "Houseprice_yaxis = df[['Y house price of unit area']]\n",
    "#linear regression \n",
    "linearmodel = linear_model.LinearRegression()\n",
    "x_train, x_test, y_train, y_test = train_test_split(Realstate_features,Houseprice_yaxis,test_size=0.33, random_state=0)\n",
    "scaler = preprocessing.StandardScaler().fit(x_train)\n",
    "x_train_scaled = scaler.transform(x_train)\n",
    "x_test_scaled = scaler.transform(x_test)\n",
    "linearmodel.fit(x_train_scaled,y_train)\n",
    "print(\"Coefficients=\",linearmodel.coef_)\n",
    "print(\"score=\",linearmodel.score(x_test_scaled,y_test))\n",
    "print(\"intercept=\",linearmodel.intercept_)\n",
    "#Cross-validation\n",
    "scores = ms.cross_val_score(estimator=linearmodel,X=Realstate_features,y=Houseprice_yaxis,cv=100)\n",
    "print('CV_Scores: {}'.format(scores))\n",
    "print('CV_Score mean:{}'.format(scores.mean()))\n",
    "print('CV_Score std deviation: {}'.format(scores.std()))"
   ]
  },
  {
   "cell_type": "code",
   "execution_count": 19,
   "metadata": {},
   "outputs": [
    {
     "name": "stdout",
     "output_type": "stream",
     "text": [
      "  User country;Nr. reviews;Nr. hotel reviews;Helpful votes;Score;Period of stay;Traveler type;Pool;Gym;Tennis court;Spa;Casino;Free internet;Hotel name;Hotel stars;Nr. rooms;User continent;Member years;Review month;Review weekday\n",
      "0  USA;11;4;13;5;Dec-Feb;Friends;NO;YES;NO;NO;YES...                                                                                                                                                                                 \n",
      "1  USA;119;21;75;3;Dec-Feb;Business;NO;YES;NO;NO;...                                                                                                                                                                                 \n",
      "2  USA;36;9;25;5;Mar-May;Families;NO;YES;NO;NO;YE...                                                                                                                                                                                 \n",
      "3  UK;14;7;14;4;Mar-May;Friends;NO;YES;NO;NO;YES;...                                                                                                                                                                                 \n",
      "4  Canada;5;5;2;4;Mar-May;Solo;NO;YES;NO;NO;YES;Y...                                                                                                                                                                                 \n",
      "5  Canada;31;8;27;3;Mar-May;Couples;NO;YES;NO;NO;...                                                                                                                                                                                 \n",
      "6  UK;45;12;46;4;Mar-May;Couples;NO;YES;NO;NO;YES...                                                                                                                                                                                 \n",
      "7  USA;2;1;4;4;Mar-May;Families;NO;YES;NO;NO;YES;...                                                                                                                                                                                 \n"
     ]
    },
    {
     "ename": "KeyError",
     "evalue": "\"['Nr. reviews' 'Nr. hotel reviews' 'Helpful votes'] not in index\"",
     "output_type": "error",
     "traceback": [
      "\u001b[0;31m---------------------------------------------------------------------------\u001b[0m",
      "\u001b[0;31mKeyError\u001b[0m                                  Traceback (most recent call last)",
      "\u001b[0;32m<ipython-input-19-366c144da1a3>\u001b[0m in \u001b[0;36m<module>\u001b[0;34m()\u001b[0m\n\u001b[1;32m      8\u001b[0m \u001b[0mdf\u001b[0m\u001b[0;34m.\u001b[0m\u001b[0mcolumns\u001b[0m \u001b[0;34m=\u001b[0m \u001b[0mdf\u001b[0m\u001b[0;34m.\u001b[0m\u001b[0mcolumns\u001b[0m\u001b[0;34m.\u001b[0m\u001b[0mto_series\u001b[0m\u001b[0;34m(\u001b[0m\u001b[0;34m)\u001b[0m\u001b[0;34m.\u001b[0m\u001b[0mapply\u001b[0m\u001b[0;34m(\u001b[0m\u001b[0;32mlambda\u001b[0m \u001b[0mx\u001b[0m\u001b[0;34m:\u001b[0m \u001b[0mx\u001b[0m\u001b[0;34m.\u001b[0m\u001b[0mstrip\u001b[0m\u001b[0;34m(\u001b[0m\u001b[0;34m)\u001b[0m\u001b[0;34m)\u001b[0m\u001b[0;34m\u001b[0m\u001b[0m\n\u001b[1;32m      9\u001b[0m \u001b[0;31m# studentperformance_features = df[['traveltime','studytime','famrel','freetime','goout','Dalc','Walc','health','absences']]\u001b[0m\u001b[0;34m\u001b[0m\u001b[0;34m\u001b[0m\u001b[0m\n\u001b[0;32m---> 10\u001b[0;31m \u001b[0mstudentperformance_features\u001b[0m \u001b[0;34m=\u001b[0m \u001b[0mdf\u001b[0m\u001b[0;34m[\u001b[0m\u001b[0;34m[\u001b[0m\u001b[0;34m'Nr. reviews'\u001b[0m\u001b[0;34m,\u001b[0m \u001b[0;34m'Nr. hotel reviews'\u001b[0m\u001b[0;34m,\u001b[0m \u001b[0;34m'Helpful votes'\u001b[0m\u001b[0;34m]\u001b[0m\u001b[0;34m]\u001b[0m\u001b[0;34m\u001b[0m\u001b[0m\n\u001b[0m\u001b[1;32m     11\u001b[0m \u001b[0;31m# bike_features = df[['workingday','weekday']]\u001b[0m\u001b[0;34m\u001b[0m\u001b[0;34m\u001b[0m\u001b[0m\n\u001b[1;32m     12\u001b[0m \u001b[0mSchoolscore_yaxis\u001b[0m \u001b[0;34m=\u001b[0m \u001b[0mdf\u001b[0m\u001b[0;34m[\u001b[0m\u001b[0;34m[\u001b[0m\u001b[0;34m'Score'\u001b[0m\u001b[0;34m]\u001b[0m\u001b[0;34m]\u001b[0m\u001b[0;34m\u001b[0m\u001b[0m\n",
      "\u001b[0;32m/anaconda3/lib/python3.7/site-packages/pandas/core/frame.py\u001b[0m in \u001b[0;36m__getitem__\u001b[0;34m(self, key)\u001b[0m\n\u001b[1;32m   2680\u001b[0m         \u001b[0;32mif\u001b[0m \u001b[0misinstance\u001b[0m\u001b[0;34m(\u001b[0m\u001b[0mkey\u001b[0m\u001b[0;34m,\u001b[0m \u001b[0;34m(\u001b[0m\u001b[0mSeries\u001b[0m\u001b[0;34m,\u001b[0m \u001b[0mnp\u001b[0m\u001b[0;34m.\u001b[0m\u001b[0mndarray\u001b[0m\u001b[0;34m,\u001b[0m \u001b[0mIndex\u001b[0m\u001b[0;34m,\u001b[0m \u001b[0mlist\u001b[0m\u001b[0;34m)\u001b[0m\u001b[0;34m)\u001b[0m\u001b[0;34m:\u001b[0m\u001b[0;34m\u001b[0m\u001b[0m\n\u001b[1;32m   2681\u001b[0m             \u001b[0;31m# either boolean or fancy integer index\u001b[0m\u001b[0;34m\u001b[0m\u001b[0;34m\u001b[0m\u001b[0m\n\u001b[0;32m-> 2682\u001b[0;31m             \u001b[0;32mreturn\u001b[0m \u001b[0mself\u001b[0m\u001b[0;34m.\u001b[0m\u001b[0m_getitem_array\u001b[0m\u001b[0;34m(\u001b[0m\u001b[0mkey\u001b[0m\u001b[0;34m)\u001b[0m\u001b[0;34m\u001b[0m\u001b[0m\n\u001b[0m\u001b[1;32m   2683\u001b[0m         \u001b[0;32melif\u001b[0m \u001b[0misinstance\u001b[0m\u001b[0;34m(\u001b[0m\u001b[0mkey\u001b[0m\u001b[0;34m,\u001b[0m \u001b[0mDataFrame\u001b[0m\u001b[0;34m)\u001b[0m\u001b[0;34m:\u001b[0m\u001b[0;34m\u001b[0m\u001b[0m\n\u001b[1;32m   2684\u001b[0m             \u001b[0;32mreturn\u001b[0m \u001b[0mself\u001b[0m\u001b[0;34m.\u001b[0m\u001b[0m_getitem_frame\u001b[0m\u001b[0;34m(\u001b[0m\u001b[0mkey\u001b[0m\u001b[0;34m)\u001b[0m\u001b[0;34m\u001b[0m\u001b[0m\n",
      "\u001b[0;32m/anaconda3/lib/python3.7/site-packages/pandas/core/frame.py\u001b[0m in \u001b[0;36m_getitem_array\u001b[0;34m(self, key)\u001b[0m\n\u001b[1;32m   2724\u001b[0m             \u001b[0;32mreturn\u001b[0m \u001b[0mself\u001b[0m\u001b[0;34m.\u001b[0m\u001b[0m_take\u001b[0m\u001b[0;34m(\u001b[0m\u001b[0mindexer\u001b[0m\u001b[0;34m,\u001b[0m \u001b[0maxis\u001b[0m\u001b[0;34m=\u001b[0m\u001b[0;36m0\u001b[0m\u001b[0;34m)\u001b[0m\u001b[0;34m\u001b[0m\u001b[0m\n\u001b[1;32m   2725\u001b[0m         \u001b[0;32melse\u001b[0m\u001b[0;34m:\u001b[0m\u001b[0;34m\u001b[0m\u001b[0m\n\u001b[0;32m-> 2726\u001b[0;31m             \u001b[0mindexer\u001b[0m \u001b[0;34m=\u001b[0m \u001b[0mself\u001b[0m\u001b[0;34m.\u001b[0m\u001b[0mloc\u001b[0m\u001b[0;34m.\u001b[0m\u001b[0m_convert_to_indexer\u001b[0m\u001b[0;34m(\u001b[0m\u001b[0mkey\u001b[0m\u001b[0;34m,\u001b[0m \u001b[0maxis\u001b[0m\u001b[0;34m=\u001b[0m\u001b[0;36m1\u001b[0m\u001b[0;34m)\u001b[0m\u001b[0;34m\u001b[0m\u001b[0m\n\u001b[0m\u001b[1;32m   2727\u001b[0m             \u001b[0;32mreturn\u001b[0m \u001b[0mself\u001b[0m\u001b[0;34m.\u001b[0m\u001b[0m_take\u001b[0m\u001b[0;34m(\u001b[0m\u001b[0mindexer\u001b[0m\u001b[0;34m,\u001b[0m \u001b[0maxis\u001b[0m\u001b[0;34m=\u001b[0m\u001b[0;36m1\u001b[0m\u001b[0;34m)\u001b[0m\u001b[0;34m\u001b[0m\u001b[0m\n\u001b[1;32m   2728\u001b[0m \u001b[0;34m\u001b[0m\u001b[0m\n",
      "\u001b[0;32m/anaconda3/lib/python3.7/site-packages/pandas/core/indexing.py\u001b[0m in \u001b[0;36m_convert_to_indexer\u001b[0;34m(self, obj, axis, is_setter)\u001b[0m\n\u001b[1;32m   1325\u001b[0m                 \u001b[0;32mif\u001b[0m \u001b[0mmask\u001b[0m\u001b[0;34m.\u001b[0m\u001b[0many\u001b[0m\u001b[0;34m(\u001b[0m\u001b[0;34m)\u001b[0m\u001b[0;34m:\u001b[0m\u001b[0;34m\u001b[0m\u001b[0m\n\u001b[1;32m   1326\u001b[0m                     raise KeyError('{mask} not in index'\n\u001b[0;32m-> 1327\u001b[0;31m                                    .format(mask=objarr[mask]))\n\u001b[0m\u001b[1;32m   1328\u001b[0m \u001b[0;34m\u001b[0m\u001b[0m\n\u001b[1;32m   1329\u001b[0m                 \u001b[0;32mreturn\u001b[0m \u001b[0mcom\u001b[0m\u001b[0;34m.\u001b[0m\u001b[0m_values_from_object\u001b[0m\u001b[0;34m(\u001b[0m\u001b[0mindexer\u001b[0m\u001b[0;34m)\u001b[0m\u001b[0;34m\u001b[0m\u001b[0m\n",
      "\u001b[0;31mKeyError\u001b[0m: \"['Nr. reviews' 'Nr. hotel reviews' 'Helpful votes'] not in index\""
     ]
    }
   ],
   "source": [
    "import pandas as pd\n",
    "from sklearn import linear_model\n",
    "from sklearn import preprocessing\n",
    "from sklearn.model_selection import train_test_split\n",
    "from sklearn import model_selection as ms\n",
    "df = pd.read_csv(\"/Users/lindaaazheng/Desktop/ML-proj-master/LasVegasTripAdvisorReviews-Dataset.csv\")\n",
    "print(df.head(8))\n",
    "df.columns = df.columns.to_series().apply(lambda x: x.strip())\n",
    "# studentperformance_features = df[['traveltime','studytime','famrel','freetime','goout','Dalc','Walc','health','absences']]\n",
    "studentperformance_features = df[['Nr. reviews', 'Nr. hotel reviews', 'Helpful votes']]\n",
    "# bike_features = df[['workingday','weekday']]\n",
    "Schoolscore_yaxis = df[['Score']]\n",
    "linearmodel = linear_model.LinearRegression()\n",
    "x_train, x_test, y_train, y_test = train_test_split(studentperformance_features_features,Schoolscore_yaxis,test_size=0.33, random_state=0)\n",
    "scaler = preprocessing.StandardScaler().fit(x_train)\n",
    "x_train_scaled = scaler.transform(x_train)\n",
    "x_test_scaled = scaler.transform(x_test)\n",
    "linearmodel.fit(x_train_scaled,y_train)\n",
    "print(\"Coefficients=\",linearmodel.coef_)\n",
    "print(\"score=\",linearmodel.score(x_test_scaled,y_test))\n",
    "print(\"intercept=\",linearmodel.intercept_)\n",
    "#Cross-validation\n",
    "scores = ms.cross_val_score(estimator=linearmodel,X=studentperformance_features,y=Schoolscore_yaxis,cv=100)\n",
    "print('CV_Scores: {}'.format(scores))\n",
    "print('CV_Score mean:{}'.format(scores.mean()))\n",
    "print('CV_Score std deviation: {}'.format(scores.std()))"
   ]
  }
 ],
 "metadata": {
  "kernelspec": {
   "display_name": "Python 3",
   "language": "python",
   "name": "python3"
  },
  "language_info": {
   "codemirror_mode": {
    "name": "ipython",
    "version": 3
   },
   "file_extension": ".py",
   "mimetype": "text/x-python",
   "name": "python",
   "nbconvert_exporter": "python",
   "pygments_lexer": "ipython3",
   "version": "3.7.0"
  }
 },
 "nbformat": 4,
 "nbformat_minor": 2
}
