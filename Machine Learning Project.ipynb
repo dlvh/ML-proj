{
 "cells": [
  {
   "cell_type": "markdown",
   "metadata": {},
   "source": [
    "# Machine Learning Project"
   ]
  },
  {
   "cell_type": "markdown",
   "metadata": {},
   "source": [
    "*Date: 12/02/2018*\n",
    "\n",
    "\n",
    "\n",
    "This project uses machine learning algorithm to explore three data sets. We will look at Beijing's Air Quality (temperature to PM2.5), Real Estate Valuation (Location to Price), and Student Performance (Multiple features and relations). Main features include cross-validation, linear regression and logistic regression. \n",
    "\n",
    "**Collaborators of this project:** Anish Vankayalapati, David Lyu, Linda (Ningyi) Zheng "
   ]
  },
  {
   "cell_type": "code",
   "execution_count": null,
   "metadata": {},
   "outputs": [],
   "source": []
  }
 ],
 "metadata": {
  "kernelspec": {
   "display_name": "Python 3",
   "language": "python",
   "name": "python3"
  },
  "language_info": {
   "codemirror_mode": {
    "name": "ipython",
    "version": 3
   },
   "file_extension": ".py",
   "mimetype": "text/x-python",
   "name": "python",
   "nbconvert_exporter": "python",
   "pygments_lexer": "ipython3",
   "version": "3.7.0"
  }
 },
 "nbformat": 4,
 "nbformat_minor": 2
}
